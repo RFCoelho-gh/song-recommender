{
 "cells": [
  {
   "cell_type": "code",
   "execution_count": 33,
   "id": "22b23fbc-3c11-4d36-a926-93af446bc203",
   "metadata": {},
   "outputs": [],
   "source": [
    "import spotipy\n",
    "import pandas as pd\n",
    "import json\n",
    "from spotipy.oauth2 import SpotifyClientCredentials\n",
    "import random\n",
    "\n",
    "import config\n",
    "import time"
   ]
  },
  {
   "cell_type": "code",
   "execution_count": 3,
   "id": "2adc343b-33a3-464b-ba21-d8b60c48133c",
   "metadata": {},
   "outputs": [],
   "source": [
    "#Initialize SpotiPy with user credentials\n",
    "sp = spotipy.Spotify(auth_manager=SpotifyClientCredentials(client_id= config.CLIENT_ID,\n",
    "                                                           client_secret= config.CLIENT_SECRET))"
   ]
  },
  {
   "cell_type": "code",
   "execution_count": 15,
   "id": "c94aac4a-9dba-4e76-bf51-c887e5271ee5",
   "metadata": {},
   "outputs": [],
   "source": [
    "hot_100_songs = [\"A Bar Song (Tipsy)\", \"Midnight Memories\", \"Echoes of Yesterday\", \"Sunset Boulevard\", \"Heartbeat City\", \"Neon Dreams\", \"Lost in Translation\", \"Electric Feelings\", \"City Lights\", \"Moonlit Dance\", \"Starlight Serenade\", \"Whispers in the Dark\", \"Golden Hour\", \"Chasing Shadows\", \"Velvet Sky\", \"Crystal Clear\", \"Ocean Eyes\", \"Desert Rose\", \"Northern Lights\", \"Southern Comfort\", \"Eastern Sunrise\", \"Western Wind\", \"Mountain High\", \"Valley Low\", \"River Flow\", \"Forest Whisper\", \"Desert Mirage\", \"Island Breeze\", \"Tropical Rain\", \"Arctic Chill\", \"Savannah Heat\", \"Prairie Dawn\", \"Canyon Echo\", \"Harbor Lights\", \"Lighthouse Glow\", \"Seaside Serenade\", \"Harbor Nights\", \"Coastal Dreams\", \"Bayou Blues\", \"Delta Dawn\", \"Everglade Echoes\", \"Swamp Song\", \"Marshland Melody\", \"Wetland Whispers\", \"Rainforest Rhythm\", \"Jungle Jam\", \"Safari Sunset\", \"Savanna Serenade\", \"Outback Oasis\", \"Tundra Twilight\", \"Taiga Tune\", \"Steppe Song\", \"Plateau Pulse\", \"Mesa Melody\", \"Butte Beat\", \"Cliffside Chorus\", \"Cave Chant\", \"Grotto Groove\", \"Cavernous Cadence\", \"Underground Uplift\", \"Subterranean Swing\", \"Mineshaft Melody\", \"Quarry Quartet\", \"Pitfall Prelude\", \"Abyss Anthem\", \"Trench Tune\", \"Rift Rhapsody\", \"Chasm Chant\", \"Gorge Groove\", \"Canyon Call\", \"Valley Verse\", \"Dale Ditty\", \"Hollow Hymn\", \"Glen Groove\", \"Dell Dance\", \"Nook Note\", \"Cranny Chorus\", \"Alcove Anthem\", \"Recess Rhythm\", \"Corner Cadence\", \"Pocket Pulse\", \"Pouch Prelude\", \"Satchel Song\", \"Bagpipe Beat\", \"Sack Serenade\", \"Bundle Ballad\", \"Parcel Prelude\", \"Package Pulse\", \"Packet Poem\", \"Envelope Echo\", \"Letter Lullaby\", \"Note Number\", \"Message Melody\", \"Telegram Tune\", \"Dispatch Ditty\", \"Missive Melody\", \"Epistle Echo\", \"Correspondence Chorus\", \"Memo Melody\", \"Bulletin Beat\", \"Circular Chorus\", \"Flyer Fanfare\", \"Brochure Ballad\", \"Pamphlet Prelude\", \"Leaflet Lullaby\", \"Handbill Harmony\", \"Poster Pulse\", \"Placard Poem\", \"Billboard Ballad\"]"
   ]
  },
  {
   "cell_type": "code",
   "execution_count": 13,
   "id": "a20f3c5c-53d7-4801-9070-1867f12f3539",
   "metadata": {},
   "outputs": [],
   "source": [
    "def get_recommendation():\n",
    "    user_input = input(\"Pleasea input a song:\")\n",
    "    if user_input in hot_100_songs:\n",
    "        print(\"Your song is one of the hot songs!\")\n",
    "        rng = random.randint(0, (len(hot_100_songs)-1))\n",
    "        recommendation = hot_100_songs[rng]\n",
    "        print(f\"Here is another hot song! {recommendation}\")\n",
    "    else:\n",
    "        print(\"We are sorry, but your song is not hot enough to be one of the 100 HOT SONGS!\")"
   ]
  },
  {
   "cell_type": "code",
   "execution_count": 14,
   "id": "23d84020-3642-4511-b242-91e07dff5820",
   "metadata": {},
   "outputs": [
    {
     "name": "stdin",
     "output_type": "stream",
     "text": [
      "Pleasea input a song: a\n"
     ]
    },
    {
     "name": "stdout",
     "output_type": "stream",
     "text": [
      "We are sorry, but your song is not hot enough to be one of the 100 HOT SONGS!\n"
     ]
    }
   ],
   "source": [
    "get_recommendation()"
   ]
  },
  {
   "cell_type": "markdown",
   "id": "d7995cab-7d11-457a-955d-194d627be0bc",
   "metadata": {},
   "source": [
    "___________________________"
   ]
  }
 ],
 "metadata": {
  "kernelspec": {
   "display_name": "Python 3 (ipykernel)",
   "language": "python",
   "name": "python3"
  },
  "language_info": {
   "codemirror_mode": {
    "name": "ipython",
    "version": 3
   },
   "file_extension": ".py",
   "mimetype": "text/x-python",
   "name": "python",
   "nbconvert_exporter": "python",
   "pygments_lexer": "ipython3",
   "version": "3.12.4"
  }
 },
 "nbformat": 4,
 "nbformat_minor": 5
}
